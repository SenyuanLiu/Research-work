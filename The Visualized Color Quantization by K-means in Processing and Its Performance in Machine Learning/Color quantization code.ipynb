{
 "cells": [
  {
   "cell_type": "code",
   "execution_count": 2,
   "id": "76fb0d35",
   "metadata": {},
   "outputs": [],
   "source": [
    "import cv2\n",
    "import numpy as np\n",
    "from PIL import Image\n",
    "import requests\n",
    "from io import BytesIO\n",
    "import matplotlib\n",
    "matplotlib.use('TkAgg')\n",
    "import matplotlib.pyplot as plt"
   ]
  },
  {
   "cell_type": "code",
   "execution_count": 3,
   "id": "d072c4f8",
   "metadata": {},
   "outputs": [],
   "source": [
    "#ahash method \n",
    "def aHash(img):\n",
    "    #Reduce the image scale to 8*8\n",
    "    img=cv2.resize(img,(8,8),interpolation=cv2.INTER_CUBIC)\n",
    "    #Grayscale the image (0-255)\n",
    "    gray=cv2.cvtColor(img,cv2.COLOR_BGR2GRAY)\n",
    "    #s: sum of pixels value\n",
    "    s=0\n",
    "    hash_str=''\n",
    "    #sum the pixel value\n",
    "    for i in range(8):\n",
    "        for j in range(8):\n",
    "            s=s+gray[i,j]\n",
    "    #Calculate the average of all the pixels values\n",
    "    avg=s/64\n",
    "    #The pixel value greater than the average is marked as 1 and the opposite is 0 for a total of 64 bits.\n",
    "    for i in range(8):\n",
    "        for j in range(8):\n",
    "            if  gray[i,j]>avg:\n",
    "                hash_str=hash_str+'1'\n",
    "            else:\n",
    "                hash_str=hash_str+'0'  \n",
    "    #Produce hash value (two strings with 1 and 0)\n",
    "    return hash_str\n",
    "\n",
    "#dhash method \n",
    "def dHash(img):\n",
    "    img=cv2.resize(img,(9,8),interpolation=cv2.INTER_CUBIC)\n",
    "    gray=cv2.cvtColor(img,cv2.COLOR_BGR2GRAY)\n",
    "    hash_str=''\n",
    "    #Compare: A pixel value greater than the latter is denoted as 1, and the opposite is denoted as 0. \n",
    "    for i in range(8):\n",
    "        for j in range(8):\n",
    "            if   gray[i,j]>gray[i,j+1]:\n",
    "                hash_str=hash_str+'1'\n",
    "            else:\n",
    "                hash_str=hash_str+'0'\n",
    "    return hash_str\n",
    "\n",
    "#Calculate the Hamming distance and compare\n",
    "def cmpHash(hash1,hash2):\n",
    "    n=0\n",
    "    if len(hash1)!=len(hash2):\n",
    "        return -1\n",
    "    for i in range(len(hash1)):\n",
    "        if hash1[i]!=hash2[i]:\n",
    "            n=n+1\n",
    "    return n\n",
    "\n",
    "#Perceptual hash method \n",
    "def pHash(img):\n",
    "    # resize the DCT (32*32 matrix)\n",
    "    img = cv2.resize(img, (32, 32))   #interpolation=cv2.INTER_CUBIC\n",
    "    gray = cv2.cvtColor(img, cv2.COLOR_BGR2GRAY)\n",
    "    dct = cv2.dct(np.float32(gray))\n",
    "    dct_roi = dct[0:8, 0:8]\n",
    " \n",
    "    hash_str=''\n",
    "    avreage = np.mean(dct_roi)\n",
    "    for i in range(dct_roi.shape[0]):\n",
    "        for j in range(dct_roi.shape[1]):\n",
    "            if dct_roi[i, j] > avreage:\n",
    "                hash_str=hash_str+'1'\n",
    "            else:\n",
    "                hash_str=hash_str+'0'\n",
    "    return hash_str"
   ]
  },
  {
   "cell_type": "code",
   "execution_count": 4,
   "id": "9bd7492a",
   "metadata": {},
   "outputs": [],
   "source": [
    "#path = '/Users/liusenyuan/Desktop/input1.jpg'\n",
    "#img=cv2.imread('/Users/liusenyuan/Desktop/input1.jpg')\n",
    "#cv2.imshow('image', img)\n",
    "#image = cv2.imread('/Users/liusenyuan/Desktop/input1.jpg')\n",
    "#print(image.shape)"
   ]
  },
  {
   "cell_type": "markdown",
   "id": "bda8be54",
   "metadata": {},
   "source": [
    "## Test run :use the first airplane image as an example, compare in three methods:"
   ]
  },
  {
   "cell_type": "code",
   "execution_count": 6,
   "id": "ee9b68de",
   "metadata": {},
   "outputs": [
    {
     "name": "stdout",
     "output_type": "stream",
     "text": [
      "1111111111111111101111111101010000000000010110010100100000000000\n",
      "1111111111111111101111111101011000000000010110011100100000000000\n",
      "Average Hash value:  2\n",
      "1001101110010110101110001100110111110010000011100110100001010011\n",
      "1011101110110111101111011100110111010010000011100110100011010011\n",
      "Difference Hash value： 7\n",
      "1001001110000100001000000000000000000000001110001000000001000000\n",
      "1001001110000100001000000000000000000000001110001000000001000000\n",
      "Perceptual hash value： 0\n",
      "The performance value of RGB method:  3.0\n"
     ]
    }
   ],
   "source": [
    "img1=cv2.imread('/Users/liusenyuan/Documents/Research/MAT596/Output/sketch_output_RGB/output_data_RGB/airplane_output/airplane1.jpg')\n",
    "img2=cv2.imread('/Users/liusenyuan/Documents/Research/MAT596/Output/input_data/airplane_input/airplane1.jpg')\n",
    "hash1= aHash(img1)\n",
    "hash2= aHash(img2)\n",
    "print(hash1)\n",
    "print(hash2)\n",
    "n1=cmpHash(hash1,hash2)\n",
    "print('Average Hash value: ',n1)\n",
    "\n",
    "\n",
    "hash1= dHash(img1)\n",
    "hash2= dHash(img2)\n",
    "print(hash1)\n",
    "print(hash2)\n",
    "n2=cmpHash(hash1,hash2)\n",
    "print('Difference Hash value：',n2)\n",
    "\n",
    "hash1= pHash(img1)\n",
    "hash2= pHash(img2)\n",
    "print(hash1)\n",
    "print(hash2)\n",
    "n3=cmpHash(hash1,hash2)\n",
    "print('Perceptual hash value：',n3)\n",
    "print('The performance value of RGB method: ', (n1+n2+n3)/3)"
   ]
  },
  {
   "cell_type": "markdown",
   "id": "0bfe96a8",
   "metadata": {},
   "source": [
    "## Similarity of Airplaine Class"
   ]
  },
  {
   "cell_type": "code",
   "execution_count": 7,
   "id": "8e140757",
   "metadata": {},
   "outputs": [
    {
     "name": "stdout",
     "output_type": "stream",
     "text": [
      "Compare Airplane Output Class with airplane original images. Similarity: \n",
      "In aHash method:  5.466850828729282\n",
      "In dHash method:  12.802486187845304\n",
      "In pHash method:  2.3729281767955803\n",
      "The performance of HSB method:  6.8807550644567215\n"
     ]
    }
   ],
   "source": [
    "#input_image = None\n",
    "#output_image = None\n",
    "hash_value_a = []\n",
    "hash_value_d = []\n",
    "hash_value_p = []\n",
    "for i in range (1,725):\n",
    "    input_image = cv2.imread(f'/Users/liusenyuan/Documents/Research/MAT596/Output/sketch_output_HSB/output_data_HSB/airplane_output/airplane{i}.jpg')\n",
    "    output_image = cv2.imread(f'/Users/liusenyuan/Documents/Research/MAT596/Output/input_data/airplane_input/airplane{i}.jpg')\n",
    "    hash1= aHash(input_image)\n",
    "    hash2= aHash(output_image)\n",
    "    n=cmpHash(hash1,hash2)\n",
    "    hash_value_a.append(n)\n",
    "\n",
    "for j in range (1,725):\n",
    "    input_image = cv2.imread(f'/Users/liusenyuan/Documents/Research/MAT596/Output/sketch_output_HSB/output_data_HSB/airplane_output/airplane{j}.jpg')\n",
    "    output_image = cv2.imread(f'/Users/liusenyuan/Documents/Research/MAT596/Output/input_data/airplane_input/airplane{j}.jpg')\n",
    "    hash1= dHash(input_image)\n",
    "    hash2= dHash(output_image)\n",
    "    n=cmpHash(hash1,hash2)\n",
    "    hash_value_d.append(n)\n",
    "\n",
    "for k in range (1,725):\n",
    "    input_image = cv2.imread(f'/Users/liusenyuan/Documents/Research/MAT596/Output/sketch_output_HSB/output_data_HSB/airplane_output/airplane{k}.jpg')\n",
    "    output_image = cv2.imread(f'/Users/liusenyuan/Documents/Research/MAT596/Output/input_data/airplane_input/airplane{k}.jpg')\n",
    "    hash1= pHash(input_image)\n",
    "    hash2= pHash(output_image)\n",
    "    n=cmpHash(hash1,hash2)\n",
    "    hash_value_p.append(n)\n",
    "\n",
    "average_a = sum(hash_value_a)/len(hash_value_a)\n",
    "average_d = sum(hash_value_d)/len(hash_value_a)\n",
    "average_p = sum(hash_value_p)/len(hash_value_p)\n",
    "\n",
    "print(\"Compare Airplane Output Class with airplane original images. Similarity: \")\n",
    "print(\"In aHash method: \",average_a)\n",
    "print(\"In dHash method: \",average_d)\n",
    "print(\"In pHash method: \",average_p)\n",
    "print(\"The performance of HSB method: \", (average_a+average_d+average_p)/3)"
   ]
  },
  {
   "cell_type": "markdown",
   "id": "8df23443",
   "metadata": {},
   "source": [
    "## Cosine Similarity "
   ]
  },
  {
   "cell_type": "code",
   "execution_count": 8,
   "id": "a0ca46ad",
   "metadata": {},
   "outputs": [],
   "source": [
    "def get_thum(image, size=(32, 32), greyscale=False):\n",
    "    #set image to high quality\n",
    "    #image = image.resize(size, Image.ANTIALIAS)\n",
    "    if greyscale:\n",
    "        # grayscale the image and convert to L\n",
    "        image = image.convert('L')\n",
    "    return image\n",
    "\n",
    "# calculate the cosine distance \n",
    "def image_similarity_vectors_via_numpy(image1, image2):\n",
    "    image1 = get_thum(image1)\n",
    "    image2 = get_thum(image2)\n",
    "    images = [image1, image2]\n",
    "    vectors = []\n",
    "    norms = []\n",
    "    for image in images:\n",
    "        vector = []\n",
    "        for pixel_tuple in image.getdata():\n",
    "            vector.append(np.average(pixel_tuple))\n",
    "        vectors.append(vector)\n",
    "        norms.append(np.linalg.norm(vector, 2))\n",
    "    a, b = vectors\n",
    "    a_norm, b_norm = norms\n",
    "    # dot product\n",
    "    res = np.dot(a / a_norm, b / b_norm)\n",
    "    return res"
   ]
  },
  {
   "cell_type": "markdown",
   "id": "63e30502",
   "metadata": {},
   "source": [
    "## Test run"
   ]
  },
  {
   "cell_type": "code",
   "execution_count": 9,
   "id": "872421b2",
   "metadata": {},
   "outputs": [
    {
     "data": {
      "text/plain": [
       "0.999372916240713"
      ]
     },
     "execution_count": 9,
     "metadata": {},
     "output_type": "execute_result"
    }
   ],
   "source": [
    "image1 = Image.open(r\"/Users/liusenyuan/Documents/Research/MAT596/Output/sketch_output_RGB/output_data_RGB/airplane_output/airplane1.jpg\").convert(\"L\") \n",
    "image2 = Image.open(r\"/Users/liusenyuan/Documents/Research/MAT596/Output/input_data/airplane_input/airplane1.jpg\").convert(\"L\") \n",
    "image_similarity_vectors_via_numpy(image1,image2)"
   ]
  },
  {
   "cell_type": "code",
   "execution_count": null,
   "id": "aeba760e",
   "metadata": {},
   "outputs": [],
   "source": [
    "#for i in range (1,3):\n",
    "    #path = f'/Users/liusenyuan/Desktop/MAT Independent Study/Output/sketch_output_RGB/output_data_RGB/airplane_output/airplane{i}.jpg'\n",
    "    #output_image = cv2.imread(f'/Users/liusenyuan/Desktop/MAT Independent Study/Output/input_data/airplane_input/airplane{i}.jpg')\n",
    "#path"
   ]
  },
  {
   "cell_type": "markdown",
   "id": "fb4d0047",
   "metadata": {},
   "source": [
    "## Test run: compare the first class - airplane"
   ]
  },
  {
   "cell_type": "code",
   "execution_count": 10,
   "id": "d2888dad",
   "metadata": {},
   "outputs": [
    {
     "name": "stdout",
     "output_type": "stream",
     "text": [
      "0.9990260956561093\n"
     ]
    }
   ],
   "source": [
    "cos_value = []\n",
    "for i in range (1,50):\n",
    "    path1 = f'/Users/liusenyuan/Documents/Research/MAT596/Output/sketch_output_RGB/output_data_RGB/airplane_output/airplane{i}.jpg'\n",
    "    path2 = f'/Users/liusenyuan/Documents/Research/MAT596/Output/input_data/airplane_input/airplane{i}.jpg'\n",
    "    image1 = Image.open(path1).convert(\"L\") \n",
    "    image2 = Image.open(path2).convert(\"L\")\n",
    "    cos_value.append(image_similarity_vectors_via_numpy(image1,image2))\n",
    "avg_cos = sum(cos_value)/len(cos_value)\n",
    "print(avg_cos)"
   ]
  },
  {
   "cell_type": "markdown",
   "id": "f9d3095b",
   "metadata": {},
   "source": [
    "## Plot the relation"
   ]
  },
  {
   "cell_type": "code",
   "execution_count": 15,
   "id": "f10cfce9",
   "metadata": {},
   "outputs": [],
   "source": [
    "H1 = cv2.calcHist([img1], [1], None, [256], [0, 256])\n",
    "H1 = cv2.normalize(H1, H1, 0, 1, cv2.NORM_MINMAX, -1)  \n",
    "\n",
    "H2 = cv2.calcHist([img2], [1], None, [256], [0, 256])\n",
    "H2 = cv2.normalize(H2, H2, 0, 1, cv2.NORM_MINMAX, -1)  "
   ]
  },
  {
   "cell_type": "code",
   "execution_count": 17,
   "id": "0127b394",
   "metadata": {},
   "outputs": [],
   "source": [
    "plt.plot(H1,label='input1')\n",
    "plt.plot(H2,label='output1')\n",
    "plt.xlim([0, 255])\n",
    "plt.ylim([0, 1])\n",
    "plt.title('pixel vs ratio')\n",
    "plt.show()\n",
    "#plt.legend()"
   ]
  },
  {
   "cell_type": "code",
   "execution_count": null,
   "id": "515c9dd6",
   "metadata": {},
   "outputs": [],
   "source": []
  }
 ],
 "metadata": {
  "kernelspec": {
   "display_name": "Python 3 (ipykernel)",
   "language": "python",
   "name": "python3"
  },
  "language_info": {
   "codemirror_mode": {
    "name": "ipython",
    "version": 3
   },
   "file_extension": ".py",
   "mimetype": "text/x-python",
   "name": "python",
   "nbconvert_exporter": "python",
   "pygments_lexer": "ipython3",
   "version": "3.9.12"
  }
 },
 "nbformat": 4,
 "nbformat_minor": 5
}
